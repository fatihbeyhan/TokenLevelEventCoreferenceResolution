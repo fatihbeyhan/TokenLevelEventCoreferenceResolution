{
 "cells": [
  {
   "cell_type": "code",
   "execution_count": 1,
   "metadata": {},
   "outputs": [],
   "source": [
    "from sklearn.metrics import confusion_matrix,classification_report,f1_score,accuracy_score\n",
    "import pandas as pd\n",
    "import pickle,spacy,itertools,random,re\n",
    "nlp = spacy.load('en_core_web_lg')"
   ]
  },
  {
   "cell_type": "code",
   "execution_count": 2,
   "metadata": {},
   "outputs": [],
   "source": [
    "import warnings\n",
    "warnings.filterwarnings('ignore')"
   ]
  },
  {
   "cell_type": "code",
   "execution_count": 3,
   "metadata": {},
   "outputs": [],
   "source": [
    "# Load parsed documents.\n",
    "with open('../dataset/docs.pkl','rb') as p:\n",
    "    docs = pickle.load(p)"
   ]
  },
  {
   "cell_type": "markdown",
   "metadata": {},
   "source": [
    "### Trigger Similarity (Dumbest)"
   ]
  },
  {
   "cell_type": "markdown",
   "metadata": {},
   "source": [
    "<div class=\"alert alert-block alert-info\">\n",
    "<b>Trigger similarity approach is basically checking the similarity score of two trigger words with spacy's similarity() method.</b>\n",
    "</div>"
   ]
  },
  {
   "cell_type": "code",
   "execution_count": 4,
   "metadata": {},
   "outputs": [],
   "source": [
    "def triggerSimilarity(word1,word2,trs):\n",
    "    \"\"\"\n",
    "    This func. will get triggers and a threshold value. It will check the similarity of the given triggers and\n",
    "    return 1 if the similarity is greater threshold value, or 0 if similarity is less than threshold. \n",
    "    \"\"\"\n",
    "    word1 = nlp(max(word1.lower().split()))[0]\n",
    "    word2 = nlp(max(word2.lower().split()))[0]\n",
    "    \n",
    "    if word1.similarity(word2) > trs:\n",
    "        return 1\n",
    "    else:\n",
    "        return 0"
   ]
  },
  {
   "cell_type": "code",
   "execution_count": 5,
   "metadata": {},
   "outputs": [],
   "source": [
    "def prepare_trigger_pairs():\n",
    "    \"\"\"\n",
    "    This func. will check each mention in each event of each document. Pair the coreferent triggers. Then, add some\n",
    "    negative samples of mention pairs. \n",
    "    \"\"\"\n",
    "    allTrigers = []\n",
    "    for doc in docs:\n",
    "        pCombs = []\n",
    "        ments = []\n",
    "        for event in doc['Events']:\n",
    "            mentions = []\n",
    "            for mention in event['MENTIONS']:\n",
    "                mentions.append(mention['TEXT'])\n",
    "            mentions = list(set(mentions))  \n",
    "            ments.append(mentions)\n",
    "            combinations = list(itertools.combinations(mentions,2))\n",
    "            for c in combinations:\n",
    "                c= list(c)\n",
    "                c.append(1)\n",
    "                pCombs.append(c)\n",
    "        try:\n",
    "            nCombs = []   \n",
    "            for im in range(len(ments)):\n",
    "                for trig in ments[im]:\n",
    "                    if random.sample([1,2,3,4],1)[0] == 1: #[BALANCED]#\n",
    "                        M = ments.copy()\n",
    "                        M.pop(im)\n",
    "\n",
    "                        nTrig = random.sample(random.sample(M,1)[0],1)[0]\n",
    "                        nCombs.append([trig,nTrig,0])\n",
    "            allTrigers += pCombs+nCombs\n",
    "        except:\n",
    "            pass\n",
    "    return allTrigers"
   ]
  },
  {
   "cell_type": "code",
   "execution_count": 6,
   "metadata": {},
   "outputs": [],
   "source": [
    "allTrigers = prepare_trigger_pairs()"
   ]
  },
  {
   "cell_type": "code",
   "execution_count": 13,
   "metadata": {
    "scrolled": false
   },
   "outputs": [
    {
     "name": "stdout",
     "output_type": "stream",
     "text": [
      "0.637989366843886\n",
      "              precision    recall  f1-score   support\n",
      "\n",
      "           0       0.79      0.47      0.59      1138\n",
      "           1       0.52      0.82      0.64       805\n",
      "\n",
      "    accuracy                           0.61      1943\n",
      "   macro avg       0.65      0.64      0.61      1943\n",
      "weighted avg       0.68      0.61      0.61      1943\n",
      "\n",
      "0.6362735381565906\n",
      "              precision    recall  f1-score   support\n",
      "\n",
      "           0       0.78      0.50      0.61      1138\n",
      "           1       0.53      0.80      0.64       805\n",
      "\n",
      "    accuracy                           0.62      1943\n",
      "   macro avg       0.65      0.65      0.62      1943\n",
      "weighted avg       0.67      0.62      0.62      1943\n",
      "\n",
      "0.6454592098512058\n",
      "              precision    recall  f1-score   support\n",
      "\n",
      "           0       0.78      0.55      0.64      1138\n",
      "           1       0.55      0.78      0.65       805\n",
      "\n",
      "    accuracy                           0.64      1943\n",
      "   macro avg       0.66      0.66      0.64      1943\n",
      "weighted avg       0.68      0.64      0.64      1943\n",
      "\n",
      "0.6427083333333333\n",
      "              precision    recall  f1-score   support\n",
      "\n",
      "           0       0.77      0.56      0.65      1138\n",
      "           1       0.55      0.77      0.64       805\n",
      "\n",
      "    accuracy                           0.65      1943\n",
      "   macro avg       0.66      0.66      0.65      1943\n",
      "weighted avg       0.68      0.65      0.65      1943\n",
      "\n"
     ]
    }
   ],
   "source": [
    "for trs in [0.30,0.315,0.33,0.339]:\n",
    "    df = pd.DataFrame(allTrigers,columns=['word1','word2','tLabel'])\n",
    "    df['pLabel'] = [triggerSimilarity(df.iloc[i].word1,df.iloc[i].word2,trs) for i in range(len(df))]\n",
    "    print(f1_score(df.tLabel,df.pLabel))\n",
    "    print(classification_report(df.tLabel,df.pLabel))"
   ]
  },
  {
   "cell_type": "markdown",
   "metadata": {},
   "source": [
    "- *There are no random parameter of this approach. The only hyperparameter is the similarity threshold.*\n",
    "- **Best threshold was .33 and got ~0.64 F1 Score.**"
   ]
  },
  {
   "cell_type": "markdown",
   "metadata": {},
   "source": [
    "### Trigger+Context Similarity (Second Dumbest)"
   ]
  },
  {
   "cell_type": "markdown",
   "metadata": {},
   "source": [
    "<div class=\"alert alert-block alert-info\">\n",
    "<b>Trigger+Context similarity approach is basically checking the similarity score of previousWord+trigger1+nextWord and previousWord+trigger2+nextWord with spacy's similarity() method.</b>\n",
    "</div>"
   ]
  },
  {
   "cell_type": "code",
   "execution_count": 8,
   "metadata": {},
   "outputs": [],
   "source": [
    "def trigger_contextSimilarity(triggerNcontext1,triggerNcontext2,trs):\n",
    "    triggerNcontext1 = nlp(triggerNcontext1.lower())\n",
    "    triggerNcontext2 = nlp(triggerNcontext2.lower())\n",
    "    \n",
    "    if triggerNcontext1.similarity(triggerNcontext2) > trs:\n",
    "        return 1\n",
    "    else:\n",
    "        return 0"
   ]
  },
  {
   "cell_type": "code",
   "execution_count": 9,
   "metadata": {},
   "outputs": [],
   "source": [
    "def triggerNcontext(trig,charseq,raw):\n",
    "    \"\"\"\n",
    "    This func. will get the trigger word with previous and next word.\n",
    "    \"\"\"\n",
    "    return re.search(f'.\\s{trig}\\s[\\w\\d]*\\s[\\w\\d]*|[\\w\\d]*\\s[\\w\\d]*\\s{trig}\\.|[\\w\\d]*\\s{trig}\\s[\\w\\d]*',raw[charseq[0]-35:charseq[1]+35])[0].replace('\\n',' ').strip()"
   ]
  },
  {
   "cell_type": "code",
   "execution_count": 14,
   "metadata": {},
   "outputs": [],
   "source": [
    "def prepare_triggerNcontexts_pairs():\n",
    "    \"\"\"\n",
    "    This func. will check each mention in each event of each document. Pair the coreferent triggers+context words.\n",
    "    Then, add some negative samples of mention pairs. \n",
    "    \"\"\"\n",
    "    allTrigerContexts = []\n",
    "    for doc in docs:\n",
    "        pCombs = []\n",
    "        ments = []\n",
    "        for event in doc['Events']:\n",
    "            mentions = []\n",
    "            for mention in event['MENTIONS']:\n",
    "                try:\n",
    "                    mentions.append(triggerNcontext(mention['TEXT'],mention['CHARSEQ'],doc['rawSGM']))\n",
    "                except:\n",
    "                    mentions.append(mention['TEXT'])\n",
    "            mentions = list(set(mentions))  \n",
    "            ments.append(mentions)\n",
    "            combinations = list(itertools.combinations(mentions,2))\n",
    "            for c in combinations:\n",
    "                c= list(c)\n",
    "                c.append(1)\n",
    "                pCombs.append(c)\n",
    "        try:\n",
    "            nCombs = []   \n",
    "            for im in range(len(ments)):\n",
    "                for trig in ments[im]:\n",
    "                    if random.sample([1,2],1)[0] == 1:\n",
    "                        M = ments.copy()\n",
    "                        M.pop(im)\n",
    "\n",
    "                        nTrig = random.sample(random.sample(M,1)[0],1)[0]\n",
    "                        nCombs.append([trig,nTrig,0])\n",
    "            allTrigerContexts += pCombs+nCombs\n",
    "        except:\n",
    "            pass\n",
    "    return allTrigerContexts"
   ]
  },
  {
   "cell_type": "code",
   "execution_count": 15,
   "metadata": {},
   "outputs": [],
   "source": [
    "allTriggerContexts = prepare_triggerNcontexts_pairs()"
   ]
  },
  {
   "cell_type": "code",
   "execution_count": 17,
   "metadata": {},
   "outputs": [
    {
     "name": "stdout",
     "output_type": "stream",
     "text": [
      "0.7007903650733911\n",
      "              precision    recall  f1-score   support\n",
      "\n",
      "           0       0.75      0.59      0.66      2617\n",
      "           1       0.63      0.78      0.70      2374\n",
      "\n",
      "    accuracy                           0.68      4991\n",
      "   macro avg       0.69      0.69      0.68      4991\n",
      "weighted avg       0.69      0.68      0.68      4991\n",
      "\n",
      "0.6991622239146992\n",
      "              precision    recall  f1-score   support\n",
      "\n",
      "           0       0.75      0.60      0.67      2617\n",
      "           1       0.64      0.77      0.70      2374\n",
      "\n",
      "    accuracy                           0.68      4991\n",
      "   macro avg       0.69      0.69      0.68      4991\n",
      "weighted avg       0.69      0.68      0.68      4991\n",
      "\n",
      "0.6960077896786757\n",
      "              precision    recall  f1-score   support\n",
      "\n",
      "           0       0.74      0.63      0.68      2617\n",
      "           1       0.65      0.75      0.70      2374\n",
      "\n",
      "    accuracy                           0.69      4991\n",
      "   macro avg       0.69      0.69      0.69      4991\n",
      "weighted avg       0.69      0.69      0.69      4991\n",
      "\n"
     ]
    }
   ],
   "source": [
    "for trs in [0.595,0.6,0.61]:\n",
    "    df = pd.DataFrame(allTriggerContexts,columns=['word1','word2','tLabel'])\n",
    "    df['pLabel'] = [trigger_contextSimilarity(df.iloc[i].word1,df.iloc[i].word2,trs) for i in range(len(df))]\n",
    "    print(f1_score(df.tLabel,df.pLabel))\n",
    "    print(classification_report(df.tLabel,df.pLabel))"
   ]
  },
  {
   "cell_type": "markdown",
   "metadata": {},
   "source": [
    "- *There are no random parameter of this approach. The only hyperparameter is the similarity threshold.*\n",
    "- **Best threshold was .595 and got ~0.70 F1 Score.**"
   ]
  },
  {
   "cell_type": "markdown",
   "metadata": {},
   "source": [
    "### **TO DO:**\n",
    "- Use different class distributions. (Imbalanced)\n",
    "- Use arguments?\n",
    "- Build clusters to check with different metrics (MUC, CEAF, B^3, BLANC)"
   ]
  },
  {
   "cell_type": "code",
   "execution_count": null,
   "metadata": {},
   "outputs": [],
   "source": []
  }
 ],
 "metadata": {
  "kernelspec": {
   "display_name": "Python 3",
   "language": "python",
   "name": "python3"
  },
  "language_info": {
   "codemirror_mode": {
    "name": "ipython",
    "version": 3
   },
   "file_extension": ".py",
   "mimetype": "text/x-python",
   "name": "python",
   "nbconvert_exporter": "python",
   "pygments_lexer": "ipython3",
   "version": "3.8.3"
  }
 },
 "nbformat": 4,
 "nbformat_minor": 4
}
