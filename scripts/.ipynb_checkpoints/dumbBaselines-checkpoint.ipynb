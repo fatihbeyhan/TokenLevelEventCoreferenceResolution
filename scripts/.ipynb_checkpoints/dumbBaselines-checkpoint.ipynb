{
 "cells": [
  {
   "cell_type": "code",
   "execution_count": 1,
   "metadata": {},
   "outputs": [],
   "source": [
    "import pickle,spacy,itertools,random,re\n",
    "nlp = spacy.load('en_core_web_lg')"
   ]
  },
  {
   "cell_type": "code",
   "execution_count": 2,
   "metadata": {},
   "outputs": [],
   "source": [
    "import pandas as pd\n",
    "from sklearn.metrics import confusion_matrix,classification_report,f1_score"
   ]
  },
  {
   "cell_type": "code",
   "execution_count": 3,
   "metadata": {},
   "outputs": [],
   "source": [
    "with open('docs.pkl','rb') as p:\n",
    "    docs = pickle.load(p)"
   ]
  },
  {
   "cell_type": "markdown",
   "metadata": {},
   "source": [
    "## Trigger Similarity"
   ]
  },
  {
   "cell_type": "code",
   "execution_count": 4,
   "metadata": {},
   "outputs": [],
   "source": [
    "def triggerSimilarity(word1,word2,trs):\n",
    "    word1 = nlp(max(word1.lower().split()))[0]\n",
    "    word2 = nlp(max(word2.lower().split()))[0]\n",
    "    \n",
    "    if word1.similarity(word2) > trs:\n",
    "        return 1\n",
    "    else:\n",
    "        return 0"
   ]
  },
  {
   "cell_type": "code",
   "execution_count": 5,
   "metadata": {},
   "outputs": [],
   "source": [
    "allTrigers = []\n",
    "for doc in docs:\n",
    "    pCombs = []\n",
    "    ments = []\n",
    "    for event in doc['Events']:\n",
    "        mentions = []\n",
    "        for mention in event['MENTIONS']:\n",
    "            mentions.append(mention['TEXT'])\n",
    "        mentions = list(set(mentions))  \n",
    "        ments.append(mentions)\n",
    "        combinations = list(itertools.combinations(mentions,2))\n",
    "        for c in combinations:\n",
    "            c= list(c)\n",
    "            c.append(1)\n",
    "            pCombs.append(c)\n",
    "    try:\n",
    "        nCombs = []   \n",
    "        for im in range(len(ments)):\n",
    "            for trig in ments[im]:\n",
    "                if random.sample([1,2,3,4],1)[0] == 1:\n",
    "                    M = ments.copy()\n",
    "                    M.pop(im)\n",
    "\n",
    "                    nTrig = random.sample(random.sample(M,1)[0],1)[0]\n",
    "                    nCombs.append([trig,nTrig,0])\n",
    "        allTrigers += pCombs+nCombs\n",
    "    except:\n",
    "        pass"
   ]
  },
  {
   "cell_type": "code",
   "execution_count": 6,
   "metadata": {
    "scrolled": false
   },
   "outputs": [
    {
     "name": "stderr",
     "output_type": "stream",
     "text": [
      "<ipython-input-4-0bf79af233a2>:5: UserWarning: [W008] Evaluating Token.similarity based on empty vectors.\n",
      "  if word1.similarity(word2) > trs:\n"
     ]
    },
    {
     "name": "stdout",
     "output_type": "stream",
     "text": [
      "0.6338432122370936\n",
      "              precision    recall  f1-score   support\n",
      "\n",
      "           0       0.78      0.46      0.58      1151\n",
      "           1       0.52      0.82      0.63       809\n",
      "\n",
      "    accuracy                           0.61      1960\n",
      "   macro avg       0.65      0.64      0.61      1960\n",
      "weighted avg       0.67      0.61      0.60      1960\n",
      "\n",
      "0.6032863849765259\n",
      "              precision    recall  f1-score   support\n",
      "\n",
      "           0       0.72      0.67      0.69      1151\n",
      "           1       0.57      0.64      0.60       809\n",
      "\n",
      "    accuracy                           0.66      1960\n",
      "   macro avg       0.65      0.65      0.65      1960\n",
      "weighted avg       0.66      0.66      0.66      1960\n",
      "\n",
      "0.5260900643316655\n",
      "              precision    recall  f1-score   support\n",
      "\n",
      "           0       0.68      0.81      0.74      1151\n",
      "           1       0.62      0.45      0.53       809\n",
      "\n",
      "    accuracy                           0.66      1960\n",
      "   macro avg       0.65      0.63      0.63      1960\n",
      "weighted avg       0.66      0.66      0.65      1960\n",
      "\n",
      "0.42702251876563796\n",
      "              precision    recall  f1-score   support\n",
      "\n",
      "           0       0.65      0.88      0.75      1151\n",
      "           1       0.66      0.32      0.43       809\n",
      "\n",
      "    accuracy                           0.65      1960\n",
      "   macro avg       0.65      0.60      0.59      1960\n",
      "weighted avg       0.65      0.65      0.62      1960\n",
      "\n"
     ]
    }
   ],
   "source": [
    "for trs in [0.3,0.4,0.5,0.6]:\n",
    "    df = pd.DataFrame(allTrigers,columns=['word1','word2','tLabel'])\n",
    "    df['pLabel'] = [triggerSimilarity(df.iloc[i].word1,df.iloc[i].word2,trs) for i in range(len(df))]\n",
    "    print(f1_score(df.tLabel,df.pLabel))\n",
    "    print(classification_report(df.tLabel,df.pLabel))"
   ]
  },
  {
   "cell_type": "markdown",
   "metadata": {},
   "source": [
    "## Trigger+Context Similarity"
   ]
  },
  {
   "cell_type": "code",
   "execution_count": 7,
   "metadata": {},
   "outputs": [],
   "source": [
    "def trigger_contextSimilarity(word1,word2,trs):\n",
    "    word1 = nlp(word1.lower())\n",
    "    word2 = nlp(word2.lower())\n",
    "    \n",
    "    if word1.similarity(word2) > trs:\n",
    "        return 1\n",
    "    else:\n",
    "        return 0"
   ]
  },
  {
   "cell_type": "code",
   "execution_count": 8,
   "metadata": {},
   "outputs": [],
   "source": [
    "doc    = docs[0]\n",
    "eventN = 0\n",
    "mentN  = 1"
   ]
  },
  {
   "cell_type": "code",
   "execution_count": 9,
   "metadata": {},
   "outputs": [
    {
     "data": {
      "text/plain": [
       "('land', [559, 564])"
      ]
     },
     "execution_count": 9,
     "metadata": {},
     "output_type": "execute_result"
    }
   ],
   "source": [
    "a=doc['Events'][eventN]['MENTIONS'][mentN]\n",
    "c=a['CHARSEQ']\n",
    "trig= a['TEXT']\n",
    "trig,mention['CHARSEQ']"
   ]
  },
  {
   "cell_type": "code",
   "execution_count": 10,
   "metadata": {},
   "outputs": [
    {
     "data": {
      "text/plain": [
       "'land '"
      ]
     },
     "execution_count": 10,
     "metadata": {},
     "output_type": "execute_result"
    }
   ],
   "source": [
    "doc['rawSGM'][c[0]:c[1]]"
   ]
  },
  {
   "cell_type": "code",
   "execution_count": 11,
   "metadata": {},
   "outputs": [],
   "source": [
    "l=doc['rawSGM']\n",
    "#l=' 10 killed.'"
   ]
  },
  {
   "cell_type": "code",
   "execution_count": 12,
   "metadata": {},
   "outputs": [],
   "source": [
    "def triggerNcontext(trig,charseq,raw): \n",
    "    return re.search(f'.\\s{trig}\\s[\\w\\d]*\\s[\\w\\d]*|[\\w\\d]*\\s[\\w\\d]*\\s{trig}\\.|[\\w\\d]*\\s{trig}\\s[\\w\\d]*',raw[charseq[0]-35:charseq[1]+35])[0].replace('\\n',' ').strip()"
   ]
  },
  {
   "cell_type": "code",
   "execution_count": 13,
   "metadata": {},
   "outputs": [
    {
     "data": {
      "text/plain": [
       "'Cubans land on'"
      ]
     },
     "execution_count": 13,
     "metadata": {},
     "output_type": "execute_result"
    }
   ],
   "source": [
    "triggerNcontext(trig,c,l)"
   ]
  },
  {
   "cell_type": "code",
   "execution_count": 14,
   "metadata": {},
   "outputs": [],
   "source": [
    "allTrigerContexts = []\n",
    "for doc in docs:\n",
    "    pCombs = []\n",
    "    ments = []\n",
    "    for event in doc['Events']:\n",
    "        mentions = []\n",
    "        for mention in event['MENTIONS']:\n",
    "            try:\n",
    "                mentions.append(triggerNcontext(mention['TEXT'],mention['CHARSEQ'],doc['rawSGM']))\n",
    "            except:\n",
    "                mentions.append(mention['TEXT'])\n",
    "        mentions = list(set(mentions))  \n",
    "        ments.append(mentions)\n",
    "        combinations = list(itertools.combinations(mentions,2))\n",
    "        for c in combinations:\n",
    "            c= list(c)\n",
    "            c.append(1)\n",
    "            pCombs.append(c)\n",
    "    try:\n",
    "        nCombs = []   \n",
    "        for im in range(len(ments)):\n",
    "            for trig in ments[im]:\n",
    "                if random.sample([1,2],1)[0] == 1:\n",
    "                    M = ments.copy()\n",
    "                    M.pop(im)\n",
    "\n",
    "                    nTrig = random.sample(random.sample(M,1)[0],1)[0]\n",
    "                    nCombs.append([trig,nTrig,0])\n",
    "        allTrigerContexts += pCombs+nCombs\n",
    "    except:\n",
    "        pass"
   ]
  },
  {
   "cell_type": "code",
   "execution_count": 15,
   "metadata": {
    "scrolled": false
   },
   "outputs": [
    {
     "data": {
      "text/plain": [
       "4927"
      ]
     },
     "execution_count": 15,
     "metadata": {},
     "output_type": "execute_result"
    }
   ],
   "source": [
    "len(allTrigerContexts)"
   ]
  },
  {
   "cell_type": "code",
   "execution_count": 17,
   "metadata": {
    "scrolled": true
   },
   "outputs": [
    {
     "data": {
      "text/plain": [
       "0    2555\n",
       "1    2372\n",
       "Name: tLabel, dtype: int64"
      ]
     },
     "execution_count": 17,
     "metadata": {},
     "output_type": "execute_result"
    }
   ],
   "source": [
    "pd.DataFrame(allTrigerContexts,columns=['word1','word2','tLabel']).tLabel.value_counts()"
   ]
  },
  {
   "cell_type": "code",
   "execution_count": 19,
   "metadata": {},
   "outputs": [
    {
     "name": "stdout",
     "output_type": "stream",
     "text": [
      "              precision    recall  f1-score   support\n",
      "\n",
      "           0       0.81      0.17      0.28      2555\n",
      "           1       0.52      0.96      0.67      2372\n",
      "\n",
      "    accuracy                           0.55      4927\n",
      "   macro avg       0.66      0.56      0.48      4927\n",
      "weighted avg       0.67      0.55      0.47      4927\n",
      "\n",
      "              precision    recall  f1-score   support\n",
      "\n",
      "           0       0.77      0.34      0.48      2555\n",
      "           1       0.56      0.89      0.69      2372\n",
      "\n",
      "    accuracy                           0.61      4927\n",
      "   macro avg       0.66      0.62      0.58      4927\n",
      "weighted avg       0.67      0.61      0.58      4927\n",
      "\n",
      "              precision    recall  f1-score   support\n",
      "\n",
      "           0       0.74      0.60      0.66      2555\n",
      "           1       0.64      0.77      0.70      2372\n",
      "\n",
      "    accuracy                           0.68      4927\n",
      "   macro avg       0.69      0.69      0.68      4927\n",
      "weighted avg       0.69      0.68      0.68      4927\n",
      "\n",
      "              precision    recall  f1-score   support\n",
      "\n",
      "           0       0.67      0.83      0.74      2555\n",
      "           1       0.75      0.55      0.64      2372\n",
      "\n",
      "    accuracy                           0.70      4927\n",
      "   macro avg       0.71      0.69      0.69      4927\n",
      "weighted avg       0.71      0.70      0.69      4927\n",
      "\n",
      "              precision    recall  f1-score   support\n",
      "\n",
      "           0       0.58      0.96      0.72      2555\n",
      "           1       0.85      0.25      0.38      2372\n",
      "\n",
      "    accuracy                           0.62      4927\n",
      "   macro avg       0.71      0.60      0.55      4927\n",
      "weighted avg       0.71      0.62      0.56      4927\n",
      "\n"
     ]
    }
   ],
   "source": [
    "for trs in [0.4,0.5,0.6,0.7,0.8]:\n",
    "    df = pd.DataFrame(allTrigerContexts,columns=['word1','word2','tLabel'])\n",
    "    df['pLabel'] = [trigger_contextSimilarity(df.iloc[i].word1,df.iloc[i].word2,trs) for i in range(len(df))]\n",
    "    print(classification_report(df.tLabel,df.pLabel))"
   ]
  }
 ],
 "metadata": {
  "kernelspec": {
   "display_name": "Python 3",
   "language": "python",
   "name": "python3"
  },
  "language_info": {
   "codemirror_mode": {
    "name": "ipython",
    "version": 3
   },
   "file_extension": ".py",
   "mimetype": "text/x-python",
   "name": "python",
   "nbconvert_exporter": "python",
   "pygments_lexer": "ipython3",
   "version": "3.8.3"
  }
 },
 "nbformat": 4,
 "nbformat_minor": 4
}
